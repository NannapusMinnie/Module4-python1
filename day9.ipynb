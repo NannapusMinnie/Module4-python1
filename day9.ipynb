{
 "cells": [
  {
   "cell_type": "markdown",
   "id": "ccc8b09a",
   "metadata": {},
   "source": [
    "in/not in operator"
   ]
  },
  {
   "cell_type": "code",
   "execution_count": 3,
   "id": "46597bd4",
   "metadata": {},
   "outputs": [
    {
     "name": "stdout",
     "output_type": "stream",
     "text": [
      "True\n",
      "True\n",
      "False\n",
      "True\n"
     ]
    }
   ],
   "source": [
    "sentence = \"I love Bangkok.\"\n",
    "print(\"I\" in sentence)\n",
    "print(\"\" in sentence) # empty string is in every string\n",
    "print(\" e\" in sentence)\n",
    "print(\"b\" not in sentence)"
   ]
  },
  {
   "cell_type": "code",
   "execution_count": 4,
   "id": "bc8c57c8",
   "metadata": {},
   "outputs": [
    {
     "name": "stdout",
     "output_type": "stream",
     "text": [
      "A\n",
      "HELLO\n"
     ]
    }
   ],
   "source": [
    "if \"l\" in sentence:\n",
    "    print(\"A\")\n",
    "\n",
    "if (\" \" not in sentence) or (sentence[4] == \"v\"):\n",
    "    print(\"HELLO\")\n",
    "else:\n",
    "    print(\"WORLD\")"
   ]
  },
  {
   "cell_type": "markdown",
   "id": "73c577ce",
   "metadata": {},
   "source": [
    "Loop through string"
   ]
  },
  {
   "cell_type": "code",
   "execution_count": null,
   "id": "cc25fb7e",
   "metadata": {},
   "outputs": [
    {
     "name": "stdout",
     "output_type": "stream",
     "text": [
      "10\n"
     ]
    }
   ],
   "source": [
    "# Loop by element\n",
    "sentence = \"I love Bangkok!\"\n",
    "\n",
    "count = 0\n",
    "for character in sentence:\n",
    "    if character.islower():\n",
    "        count += 1\n",
    "    \n",
    "print(count)"
   ]
  },
  {
   "cell_type": "code",
   "execution_count": 9,
   "id": "45034824",
   "metadata": {},
   "outputs": [
    {
     "name": "stdout",
     "output_type": "stream",
     "text": [
      "0 I\n",
      "1  \n",
      "2 l\n",
      "3 o\n",
      "4 v\n",
      "5 e\n",
      "6  \n",
      "7 B\n",
      "8 a\n",
      "9 n\n",
      "10 g\n",
      "11 k\n",
      "12 o\n",
      "13 k\n",
      "14 !\n"
     ]
    }
   ],
   "source": [
    "# Loop by index\n",
    "sentence = \"I love Bangkok!\"\n",
    "\n",
    "for index in range(len(sentence)):\n",
    "    print(index, sentence[index])"
   ]
  },
  {
   "cell_type": "code",
   "execution_count": 10,
   "id": "21cc092a",
   "metadata": {},
   "outputs": [
    {
     "name": "stdout",
     "output_type": "stream",
     "text": [
      "0 I\n",
      "1  \n",
      "2 l\n",
      "3 o\n",
      "4 v\n",
      "5 e\n",
      "6  \n",
      "7 B\n",
      "8 a\n",
      "9 n\n",
      "10 g\n",
      "11 k\n",
      "12 o\n",
      "13 k\n",
      "14 !\n"
     ]
    }
   ],
   "source": [
    "# Enumerate = give both index and element\n",
    "sentence = \"I love Bangkok!\"\n",
    "\n",
    "for index, element in enumerate(sentence):\n",
    "    print(index, element)"
   ]
  },
  {
   "cell_type": "markdown",
   "id": "e98fb451",
   "metadata": {},
   "source": [
    "# List #"
   ]
  },
  {
   "cell_type": "markdown",
   "id": "fe3a6051",
   "metadata": {},
   "source": [
    "String = sequence of characters\n",
    "List =  sequence of elements/objects"
   ]
  },
  {
   "cell_type": "code",
   "execution_count": 8,
   "id": "758b0a57",
   "metadata": {},
   "outputs": [
    {
     "name": "stdout",
     "output_type": "stream",
     "text": [
      "[1, 2, 3, 4]\n",
      "4\n",
      "2\n",
      "4\n",
      "[2, 3]\n",
      "[4, 3, 2, 1]\n",
      "None\n",
      "[4, 3, 2, 1]\n"
     ]
    }
   ],
   "source": [
    "empty_list = [] # ideal\n",
    "empty_list = list()\n",
    "\n",
    "numbers = [1, 2, 3, 4]\n",
    "print(numbers)\n",
    "print(len(numbers))\n",
    "print(numbers[1])\n",
    "print(numbers[-1])\n",
    "print(numbers[1:3])\n",
    "print(numbers[::-1]) # reverse\n",
    "\n",
    "print(numbers.reverse()) # in-place replacement\n",
    "print(numbers)\n",
    "\n",
    "my_list = [1, 0.2, True, \"hello\", None, [], [1, 2], print, range]"
   ]
  },
  {
   "cell_type": "code",
   "execution_count": 13,
   "id": "1eea48e3",
   "metadata": {},
   "outputs": [
    {
     "name": "stdout",
     "output_type": "stream",
     "text": [
      "[1, 2, 3]\n",
      "2\n",
      "3\n",
      "[5, 6]\n"
     ]
    }
   ],
   "source": [
    "matrix = [[1, 2, 3], [4, 5, 6]]\n",
    "print(matrix[0])\n",
    "print(len(matrix))\n",
    "print(matrix[0][2])\n",
    "print(matrix[1][1:])"
   ]
  },
  {
   "cell_type": "markdown",
   "id": "fc819566",
   "metadata": {},
   "source": [
    "Modifying list"
   ]
  },
  {
   "cell_type": "code",
   "execution_count": 20,
   "id": "671d3eba",
   "metadata": {},
   "outputs": [
    {
     "name": "stdout",
     "output_type": "stream",
     "text": [
      "[1, 2, 3, 4, 5, 6, 7, 8, 9]\n",
      "[[1, 2, 3], [4, 5, 6]]\n"
     ]
    }
   ],
   "source": [
    "# adding\n",
    "number = [1, 2, 3]\n",
    "\n",
    "number.append(4) # append = to add to the end (in place replacement)\n",
    "number += [5]\n",
    "number.insert(5, 6) # where, what to insert\n",
    "number.extend([7, 8, 9]) # extend the list\n",
    "\n",
    "print(number)\n",
    "\n",
    "\n",
    "a = [1, 2, 3]\n",
    "b = [4, 5, 6]\n",
    "c = []\n",
    "c.extend([a, b])\n",
    "print(c)"
   ]
  },
  {
   "cell_type": "code",
   "execution_count": null,
   "id": "a20272fe",
   "metadata": {},
   "outputs": [
    {
     "name": "stdout",
     "output_type": "stream",
     "text": [
      "[2, 3, 4]\n",
      "[2, 3]\n",
      "[2, 4, 6]\n",
      "[4, 6]\n"
     ]
    }
   ],
   "source": [
    "# remove\n",
    "number =  [4, 2, 3, 4]\n",
    "number.remove(4) # in-place operation\n",
    "print(number) # only remove 1st 4\n",
    "\n",
    "number =  [4, 2, 3, 4]\n",
    "for element in number: # remove all 4\n",
    "    number.remove(4)\n",
    "print(number)\n",
    "\n",
    "number = [2, 4, 6, 8]\n",
    "number.pop() # if not specify, remove last element\n",
    "print(number)\n",
    "\n",
    "number.pop(0)\n",
    "print(number)"
   ]
  },
  {
   "cell_type": "code",
   "execution_count": 51,
   "id": "6128bdcf",
   "metadata": {},
   "outputs": [
    {
     "name": "stdout",
     "output_type": "stream",
     "text": [
      "83\n",
      "83\n",
      "83\n",
      "83\n",
      "83\n"
     ]
    }
   ],
   "source": [
    "# Class work: create a list from 1 to 100\n",
    "# remove odd number that is divisible by 3\n",
    "# count how many left\n",
    "\n",
    "numbers = []\n",
    "for number in range(1, 101):\n",
    "    numbers.append(number)\n",
    "\n",
    "for number in numbers:\n",
    "     if number % 2 != 0 and number % 3 == 0:\n",
    "          numbers.remove(number)\n",
    "print(len(numbers))\n",
    "   \n",
    "#number = list(range(1, 101))\n",
    "\n",
    "numbers = []\n",
    "for number in range(1, 101):\n",
    "    if number % 2 != 0 and number % 3 == 0:\n",
    "        continue\n",
    "    numbers.append(number)\n",
    "print(len(numbers))\n",
    "\n",
    "numbers = []\n",
    "for number in range(1, 101):\n",
    "    if not(number % 2 != 0 and number % 3 == 0):\n",
    "        numbers.append(number)\n",
    "print(len(numbers))\n",
    "\n",
    "numbers = []\n",
    "for number in range(1, 101):\n",
    "    if number % 2 == 0 or number % 3 != 0:\n",
    "        numbers.append(number)\n",
    "print(len(numbers))\n",
    "\n",
    "# ultimate version\n",
    "numbers = [num for num in range(1, 101) if num % 2 == 0 or num % 3 != 0]\n",
    "print(len(numbers))\n",
    "\n"
   ]
  },
  {
   "cell_type": "markdown",
   "id": "58e96ee3",
   "metadata": {},
   "source": [
    "List Comprehension"
   ]
  },
  {
   "cell_type": "code",
   "execution_count": null,
   "id": "38ce692a",
   "metadata": {},
   "outputs": [
    {
     "name": "stdout",
     "output_type": "stream",
     "text": [
      "[0, 1, 2, 3, 4]\n",
      "[0, 1, 2, 3, 4]\n"
     ]
    }
   ],
   "source": [
    "# list comprehension\n",
    "number = [element for element in range(5)]\n",
    "print(number)\n",
    "\n",
    "# traditional\n",
    "numbers = []\n",
    "for element in range(5):\n",
    "    numbers.append(element)\n",
    "print(numbers)"
   ]
  },
  {
   "cell_type": "code",
   "execution_count": 45,
   "id": "73387a31",
   "metadata": {},
   "outputs": [
    {
     "name": "stdout",
     "output_type": "stream",
     "text": [
      "1\n",
      "2\n",
      "3\n",
      "4\n",
      "0 1\n",
      "1 2\n",
      "2 3\n",
      "3 4\n"
     ]
    }
   ],
   "source": [
    "# Loop in list\n",
    "\n",
    "my_list = [1, 2, 3, 4]\n",
    "for element in my_list:\n",
    "    print(element)\n",
    "\n",
    "for index, element in enumerate(my_list):\n",
    "    print(index, element)"
   ]
  }
 ],
 "metadata": {
  "kernelspec": {
   "display_name": "Python 3",
   "language": "python",
   "name": "python3"
  },
  "language_info": {
   "codemirror_mode": {
    "name": "ipython",
    "version": 3
   },
   "file_extension": ".py",
   "mimetype": "text/x-python",
   "name": "python",
   "nbconvert_exporter": "python",
   "pygments_lexer": "ipython3",
   "version": "3.12.2"
  }
 },
 "nbformat": 4,
 "nbformat_minor": 5
}
