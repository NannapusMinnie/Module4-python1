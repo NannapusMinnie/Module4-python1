{
 "cells": [
  {
   "cell_type": "markdown",
   "id": "a42f9543",
   "metadata": {},
   "source": [
    "a^2+b^2=c^2"
   ]
  },
  {
   "cell_type": "code",
   "execution_count": null,
   "id": "c880075d",
   "metadata": {},
   "outputs": [
    {
     "name": "stdout",
     "output_type": "stream",
     "text": [
      "False\n",
      "False\n",
      "False\n",
      "True\n",
      "True\n"
     ]
    }
   ],
   "source": [
    "print(bool(0.0))\n",
    "print(bool(None))\n",
    "print(bool(0))\n",
    "print(bool(2))\n",
    "# 0 = false, empty string = false otherwise it's true\n",
    "\n",
    "\n",
    "print(isinstance(False, int)) #check if false is an integer\n",
    "# false is an integer(false=0, true=1) and boolean, but is not a string\n",
    "print(isinstance(0,bool)) # 0 isn't boolean cause boolean inherits from integer"
   ]
  },
  {
   "cell_type": "code",
   "execution_count": null,
   "id": "e0852d0a",
   "metadata": {},
   "outputs": [
    {
     "name": "stdout",
     "output_type": "stream",
     "text": [
      "1\n"
     ]
    }
   ],
   "source": [
    "#Variables pls give meaningful name to the variable eg.\n",
    "age = 1\n",
    "print(age)\n",
    "\n",
    "'''we can't put a space between variable name\n",
    "we can use underscore _ = snake case eg. founded_year_utcc_admission_department = 1900\n",
    "we can use camelCase = 1st letter of the 1st word is lower case letter (name variable in typescript, javascript) eg. foundedYearUtccAdmisssionDepartment = 1900\n",
    "we can use PascalCase = 1st letter of everyword is upper case (to name class in python2) eg. FoundedYearUtccAdmissionDepartment = 1900\n",
    "'''\n",
    "\n",
    "name = ''\n",
    "Name = '' #ok but not good\n",
    "x = 2\n",
    "#can't use number in the variable name like \n",
    "# 1bangkok = '' bad\n",
    "_bangkok = '' #ok but not usually used\n",
    "\n",
    "\n",
    "# reserved variables/keywords (must not be used as they are assigned a specific job in the program already)\n",
    "# less reserved word = run faster, but harder\n",
    "# eg. False, int, and, or, print, if, else, break, class, del"
   ]
  },
  {
   "cell_type": "code",
   "execution_count": null,
   "id": "39be370b",
   "metadata": {},
   "outputs": [
    {
     "name": "stdout",
     "output_type": "stream",
     "text": [
      "gdvsccccccccbbbbbbbbbbbbbbbbbbbbbbbbbbhffhefqjkhff\n"
     ]
    }
   ],
   "source": [
    "\n",
    "#PEP8 format (python enhancement proposal 8)\n",
    "#x = 1 not x=1\n",
    "#print() not print ()\n",
    "#each line should contain 60-79 characters; 66 is ideal.\n",
    "#u can use \\ and enter if u have a really long fuction and u want all characters to be on the same line\n",
    "print(\"gdvsccccccccbbbbbbbbbbbbbbbbbbbbbbbbbkkdsjfiriouuuuubppppp\\\n",
    "hffhefqjkhff\")"
   ]
  },
  {
   "cell_type": "code",
   "execution_count": null,
   "id": "14e2f0d9",
   "metadata": {},
   "outputs": [
    {
     "name": "stdout",
     "output_type": "stream",
     "text": [
      "5\n",
      "6\n",
      "hi m\n",
      "hey m\n",
      "2\n"
     ]
    }
   ],
   "source": [
    "#input\n",
    "input() # in .py file you can input in terminal, in .ipynb u can input in the section above\n",
    "age = input()\n",
    "print(age)\n",
    "print(int(age)+1) #output always a string so we need to convert age to int\n",
    "#or age = int(input)\n",
    "\n",
    "name = input()\n",
    "hello = 'hi'\n",
    "print(hello, name)\n",
    "print('hey', name)\n",
    "\n",
    "your_age = int(bool(True))\n",
    "print(your_age + 1)\n",
    "\n",
    "input('enter your name: ')\n",
    "\n"
   ]
  },
  {
   "cell_type": "code",
   "execution_count": null,
   "id": "cd09d672",
   "metadata": {},
   "outputs": [
    {
     "name": "stdout",
     "output_type": "stream",
     "text": [
      "hello\n",
      "i'm a student\n"
     ]
    },
    {
     "data": {
      "text/plain": [
       "'4'"
      ]
     },
     "execution_count": 5,
     "metadata": {},
     "output_type": "execute_result"
    }
   ],
   "source": [
    "#to declare a string\n",
    "#'hello'\n",
    "#\"hello\"\n",
    "s = '''hello\n",
    "i'm a student'''\n",
    "print(s)\n",
    "str(4)"
   ]
  },
  {
   "cell_type": "code",
   "execution_count": 2,
   "id": "228eb304",
   "metadata": {},
   "outputs": [
    {
     "name": "stdout",
     "output_type": "stream",
     "text": [
      "<class 'int'>\n",
      "False\n"
     ]
    }
   ],
   "source": [
    "print(type(-0))\n",
    "print(isinstance(-0,str))"
   ]
  },
  {
   "cell_type": "code",
   "execution_count": 2,
   "id": "50eb4620",
   "metadata": {},
   "outputs": [
    {
     "name": "stdout",
     "output_type": "stream",
     "text": [
      "hello, world!\n"
     ]
    }
   ],
   "source": [
    "print('hello, world!')"
   ]
  }
 ],
 "metadata": {
  "kernelspec": {
   "display_name": "Python 3",
   "language": "python",
   "name": "python3"
  },
  "language_info": {
   "codemirror_mode": {
    "name": "ipython",
    "version": 3
   },
   "file_extension": ".py",
   "mimetype": "text/x-python",
   "name": "python",
   "nbconvert_exporter": "python",
   "pygments_lexer": "ipython3",
   "version": "3.12.2"
  }
 },
 "nbformat": 4,
 "nbformat_minor": 5
}
