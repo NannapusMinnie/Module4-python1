{
 "cells": [
  {
   "cell_type": "markdown",
   "id": "d6608ff5",
   "metadata": {},
   "source": [
    "String = data type that stores characters\n",
    "empty string = '', \"\", str(), \"\"\"\"\"\""
   ]
  },
  {
   "cell_type": "code",
   "execution_count": 4,
   "id": "1797369b",
   "metadata": {},
   "outputs": [
    {
     "name": "stdout",
     "output_type": "stream",
     "text": [
      "She said \"You're a student\"\n"
     ]
    }
   ],
   "source": [
    "sentence = \"i'm a student\"\n",
    "sentence = 'i\\'m a student'\n",
    "sentence = \"i'm a student\"\n",
    "sentence = '''i'm a student'''\n",
    "sentence = '''She said \"You're a student\"'''\n",
    "sentence = \"She said \\\"You're a student\\\"\"\n",
    "print(sentence)"
   ]
  },
  {
   "cell_type": "code",
   "execution_count": null,
   "id": "459a685c",
   "metadata": {},
   "outputs": [
    {
     "name": "stdout",
     "output_type": "stream",
     "text": [
      "HelloWorld\n",
      "Hello World\n"
     ]
    }
   ],
   "source": [
    "# Concatanation\n",
    "\n",
    "word1 = \"Hello\"\n",
    "word2 = \"World\"\n",
    "print(word1 + word2)\n",
    "print(word1 + ' ' + word2)"
   ]
  },
  {
   "cell_type": "code",
   "execution_count": 13,
   "id": "4f99746d",
   "metadata": {},
   "outputs": [
    {
     "name": "stdout",
     "output_type": "stream",
     "text": [
      "hi\n",
      "16\n",
      "cat dog snake rabbit\n"
     ]
    }
   ],
   "source": [
    "# Format String\n",
    "word = \"hi\"\n",
    "sentence = f\"{word}\"\n",
    "print(sentence)\n",
    "\n",
    "number = 2 ** 4\n",
    "print(f\"{number}\")\n",
    "\n",
    "word1 = \"cat\"\n",
    "word2 = \"dog\"\n",
    "word3 = \"snake\"\n",
    "word4 = \"rabbit\"\n",
    "print(f\"{word1} {word2} {word3} {word4}\")"
   ]
  },
  {
   "cell_type": "code",
   "execution_count": 16,
   "id": "91c0bbda",
   "metadata": {},
   "outputs": [
    {
     "data": {
      "text/plain": [
       "'cat dog snake rabbit'"
      ]
     },
     "execution_count": 16,
     "metadata": {},
     "output_type": "execute_result"
    }
   ],
   "source": [
    "# Advance Join\n",
    "\" \".join([word1, word2, word3, word4])"
   ]
  },
  {
   "cell_type": "code",
   "execution_count": 20,
   "id": "9a80aa99",
   "metadata": {},
   "outputs": [
    {
     "name": "stdout",
     "output_type": "stream",
     "text": [
      "\n",
      "meme\n",
      "\n"
     ]
    }
   ],
   "source": [
    "# Multipy String\n",
    "name = \"me\"\n",
    "print(name * 0) # 0 and below = not output\n",
    "print(name * 2)\n",
    "print(name * -1)\n",
    "# print(name * 1.0)"
   ]
  },
  {
   "cell_type": "code",
   "execution_count": null,
   "id": "e2ea83b7",
   "metadata": {},
   "outputs": [
    {
     "name": "stdout",
     "output_type": "stream",
     "text": [
      "23\n",
      "25\n",
      "24\n",
      "Bangkok, \n",
      "Thailand:\t 100C\n",
      "25\n"
     ]
    }
   ],
   "source": [
    "# Lens\n",
    "name = \"Bangkok, Thailand: 100C\"\n",
    "print(len(name))\n",
    "\n",
    "name = \"\"\"Bangkok,\n",
    "Thailand .\n",
    "100C\n",
    "\"\"\"\n",
    "print(len(name))\n",
    "# 8\n",
    "# new line character + 11\n",
    "# new line + 4\n",
    "# new line\n",
    "\n",
    "name = \"\"\"Bangkok,\n",
    "Thailand .\n",
    "100C\"\"\" # only 2 new lines\n",
    "print(len(name))\n",
    "\n",
    "name = \"Bangkok, \\nThailand:\\t 100C\" # \\n and \\t have 1 character each\n",
    "print(name)\n",
    "print(len(name))"
   ]
  },
  {
   "cell_type": "code",
   "execution_count": 38,
   "id": "186b2f14",
   "metadata": {},
   "outputs": [
    {
     "name": "stdout",
     "output_type": "stream",
     "text": [
      "B\n",
      "B\n",
      "B\n",
      ":\n",
      "C\n",
      "C\n",
      "C\n",
      "0\n"
     ]
    }
   ],
   "source": [
    "# Indexing = get a single character\n",
    "name = \"Bangkok, Thailand: 100C\"\n",
    "print(name[0]) # first character\n",
    "print(name[-len(name)]) # first character\n",
    "print(name[-23])\n",
    "print(name[17])\n",
    "print(name[22]) # last character\n",
    "print(name[len(name)-1]) # last character\n",
    "print(name[-1]) # last character\n",
    "print(name[-2]) # 2nd last character\n"
   ]
  },
  {
   "cell_type": "code",
   "execution_count": 60,
   "id": "29510f23",
   "metadata": {},
   "outputs": [
    {
     "name": "stdout",
     "output_type": "stream",
     "text": [
      "I love\n",
      "Bangkok\n",
      "Ilv ago!\n",
      "oga \n",
      "ve Bangkok!\n",
      "ve Bangkok!\n",
      "ve Bangkok!\n",
      "I lov\n",
      "I love Bangkok!\n",
      "Ilv ago!\n",
      "!kokgnaB evol I\n",
      "I love\n",
      " Bangkok!\n",
      "I love Bangkok\n"
     ]
    }
   ],
   "source": [
    "# Slicing = get a bunch of character\n",
    "# [a:b] a = start, b = stop, c = step\n",
    "sentence = \"I love Bangkok!\"\n",
    "print(sentence[0:6])\n",
    "print(sentence[7:14])\n",
    "print(sentence[0:15:2])\n",
    "print(sentence[-3:-10:-2])\n",
    "\n",
    "# from v to the end of the string\n",
    "print(sentence[4:15])\n",
    "print(sentence[4:len(sentence)])\n",
    "print(sentence[4:]) # if we leave stopping point empty it means up to the end\n",
    "\n",
    "print(sentence[:5]) # starting point empty = from the very start\n",
    "\n",
    "print(sentence[:]) # both start and stop empty = from very start to very end\n",
    "\n",
    "print(sentence[::2]) # very start to very end, step = 2\n",
    "print(sentence[::-1]) # reverse\n",
    "\n",
    "print(sentence[:6])\n",
    "print(sentence[-9:])\n",
    "print(f\"{sentence[:6]}{sentence[-9:-1]}\")"
   ]
  },
  {
   "cell_type": "markdown",
   "id": "e1a7c243",
   "metadata": {},
   "source": [
    "Methods"
   ]
  },
  {
   "cell_type": "code",
   "execution_count": null,
   "id": "3f6822f0",
   "metadata": {},
   "outputs": [
    {
     "name": "stdout",
     "output_type": "stream",
     "text": [
      "4\n",
      "1\n",
      "4\n",
      "2\n",
      "1\n"
     ]
    }
   ],
   "source": [
    "# count\n",
    "word = \"glistening glass and september rain\"\n",
    "print(word.count(\"s\")) # count how many s are there\n",
    "print(word.count(\"ss\")) # only 1 ss (s with another s beside it)\n",
    "print(word.count(\" \"))\n",
    "\n",
    "word = \"MemeMe\"\n",
    "print(word.count(\"Me\"))\n",
    "print(word.count(\"me\"))\n"
   ]
  },
  {
   "cell_type": "code",
   "execution_count": 72,
   "id": "8b1b1683",
   "metadata": {},
   "outputs": [
    {
     "name": "stdout",
     "output_type": "stream",
     "text": [
      "teeth\n",
      "TodayisTuesday\n"
     ]
    }
   ],
   "source": [
    "# Replace\n",
    "word = \"tooth\"\n",
    "print(word.replace(\"o\", \"e\"))\n",
    "\n",
    "word = \"Today is Tuesday\"\n",
    "new_word = word.replace(\" \", \"\")\n",
    "print(new_word)"
   ]
  },
  {
   "cell_type": "code",
   "execution_count": 74,
   "id": "a4118856",
   "metadata": {},
   "outputs": [
    {
     "name": "stdout",
     "output_type": "stream",
     "text": [
      "THE JOKE IS NOT FUNNY AT ALL.\n",
      "the joke is not funny at all.\n",
      "The joke is not funny at all.\n"
     ]
    }
   ],
   "source": [
    "word = \"The joke is not Funny at all.\"\n",
    "print(word.upper())\n",
    "print(word.lower())\n",
    "print(word.capitalize())"
   ]
  },
  {
   "cell_type": "code",
   "execution_count": null,
   "id": "051b3df8",
   "metadata": {},
   "outputs": [
    {
     "name": "stdout",
     "output_type": "stream",
     "text": [
      "['I', 'love', 'Bangkok']\n",
      "['I love B', 'ngkok']\n",
      "['I', 'love', 'Bangkok']\n"
     ]
    }
   ],
   "source": [
    "# Split\n",
    "word = \"I love Bangkok\"\n",
    "print(word.split())\n",
    "print(word.split(\"a\"))\n",
    "\n",
    "word = '''I\n",
    "love\n",
    "Bangkok'''\n",
    "print(word.split())\n",
    "# by default split space(any number of space, \\n, \\t) or new line character or tap"
   ]
  },
  {
   "cell_type": "code",
   "execution_count": null,
   "id": "2b17f49c",
   "metadata": {},
   "outputs": [
    {
     "name": "stdout",
     "output_type": "stream",
     "text": [
      "False\n",
      "True\n",
      "True\n",
      "False\n",
      "False\n",
      "False\n"
     ]
    }
   ],
   "source": [
    "# isalpha\n",
    "word = \"I love Bangkok\"\n",
    "print(word.isalpha()) # space is not an alphabet\n",
    "\n",
    "word = \"พ\"\n",
    "print(word.isalpha())\n",
    "\n",
    "word = \"ใ\"\n",
    "print(word.isalpha())\n",
    "\n",
    "word = \"ุ\"\n",
    "print(word.isalpha())\n",
    "\n",
    "word = \"ก๋วยเตี๋ยว\"\n",
    "print(word.isalpha())\n",
    "\n",
    "word = \"ปู่\"\n",
    "print(word.isalpha())\n",
    "\n"
   ]
  },
  {
   "cell_type": "code",
   "execution_count": null,
   "id": "98264298",
   "metadata": {},
   "outputs": [
    {
     "name": "stdout",
     "output_type": "stream",
     "text": [
      "40\n",
      " \n",
      "Desert you\n",
      "Ooh-ooh-ooh-ooh\n",
      "Hurt you\n",
      "\n",
      "\n",
      "We're no strangers to love\n",
      "You know the rules and so do I (Do I)\n",
      "A full commitment's what I'm thinking of\n",
      "You wouldn't get this from any other guy\n",
      "\n",
      "\n",
      "I just wanna tell you how I'm feeling\n",
      "Gotta make you understand\n",
      "\n",
      "\n",
      "Never gonna give you up\n",
      "Never gonna let you down\n",
      "Never gonna run around and desert you\n",
      "Never gonna make you cry\n",
      "Never gonna say goodbye\n",
      "Never gonna tell a lie and hurt you\n",
      "\n",
      "\n",
      "We've known each other for so long\n",
      "Your heart's been aching, but you're too shy to say it (To say it)\n",
      "Inside, we both know what's been going on (Going on)\n",
      "We know the game, and we're gonna play it\n",
      "\n",
      "\n",
      "And if you ask me how I'm feeling\n",
      "Don't tell me you're too blind to see\n",
      "\n",
      "\n",
      "Never gonna give you up\n",
      "Never gonna let you down\n",
      "Never gonna run around and desert you\n",
      "Never gonna make you cry\n",
      "Never gonna say goodbye\n",
      "Never gonna tell a lie and hurt you\n",
      "Never gonna give you up\n",
      "Never gonna let you down\n",
      "Never gonna run around and desert you\n",
      "Never gonna make you cry\n",
      "Never gonna say goodbye\n",
      "Never gonna tell a lie and hurt you\n",
      "\n",
      "\n",
      "Ooh (Give you up)\n",
      "Ooh-ooh (Give you up)\n",
      "Ooh-ooh\n",
      "Never gonna give, never gonna give (Give you up)\n",
      "Ooh-ooh\n",
      "Never gonna give, never gonna give (Give you up)\n",
      "\n",
      "We've known each other for so long\n",
      "Your heart's been aching, but you're too shy to say it (To say it)\n",
      "Inside, we both know what's been going on (Going on)\n",
      "We know the game, and we're gonna play it\n",
      "\n",
      "\n",
      "I just wanna tell you how I'm feeling\n",
      "Gotta make you understand\n",
      "\n",
      "\n",
      "Never gonna give you up\n",
      "Never gonna let you down\n",
      "Never gonna run around and desert you\n",
      "Never gonna make you cry\n",
      "Never gonna say goodbye\n",
      "Never gonna tell a lie and hurt you\n",
      "Never gonna give you up\n",
      "Never gonna let you down\n",
      "Never gonna run around and desert you\n",
      "Never gonna make you cry\n",
      "Never gonna say goodbye\n",
      "Never gonna tell a lie and hurt you\n",
      "Never gonna give you up\n",
      "Never gonna let you down\n",
      "Never gonna run around and desert you\n",
      "Never gonna make you cry\n",
      "Never gonna say goodbye\n",
      "Never gonna tell a lie and hurt you\n"
     ]
    }
   ],
   "source": [
    "# Task\n",
    "# 1. how many 'never gonna/Never gonna' are there? use count\n",
    "# 2. remove the section separator (intro, verse1,...) use replace\n",
    "# 3. how many lines of lyrics after doing task 2 use count\n",
    "# 4. how many number of alphabets are there in the lyrics use for loop + string\n",
    "\n",
    "lyrics = ''' [Intro]\n",
    "Desert you\n",
    "Ooh-ooh-ooh-ooh\n",
    "Hurt you\n",
    "\n",
    "[Verse 1]\n",
    "We're no strangers to love\n",
    "You know the rules and so do I (Do I)\n",
    "A full commitment's what I'm thinking of\n",
    "You wouldn't get this from any other guy\n",
    "\n",
    "[Pre-Chorus]\n",
    "I just wanna tell you how I'm feeling\n",
    "Gotta make you understand\n",
    "\n",
    "[Chorus]\n",
    "Never gonna give you up\n",
    "Never gonna let you down\n",
    "Never gonna run around and desert you\n",
    "Never gonna make you cry\n",
    "Never gonna say goodbye\n",
    "Never gonna tell a lie and hurt you\n",
    "\n",
    "[Verse 2]\n",
    "We've known each other for so long\n",
    "Your heart's been aching, but you're too shy to say it (To say it)\n",
    "Inside, we both know what's been going on (Going on)\n",
    "We know the game, and we're gonna play it\n",
    "\n",
    "[Pre-Chorus]\n",
    "And if you ask me how I'm feeling\n",
    "Don't tell me you're too blind to see\n",
    "\n",
    "[Chorus]\n",
    "Never gonna give you up\n",
    "Never gonna let you down\n",
    "Never gonna run around and desert you\n",
    "Never gonna make you cry\n",
    "Never gonna say goodbye\n",
    "Never gonna tell a lie and hurt you\n",
    "Never gonna give you up\n",
    "Never gonna let you down\n",
    "Never gonna run around and desert you\n",
    "Never gonna make you cry\n",
    "Never gonna say goodbye\n",
    "Never gonna tell a lie and hurt you\n",
    "\n",
    "[Bridge]\n",
    "Ooh (Give you up)\n",
    "Ooh-ooh (Give you up)\n",
    "Ooh-ooh\n",
    "Never gonna give, never gonna give (Give you up)\n",
    "Ooh-ooh\n",
    "Never gonna give, never gonna give (Give you up)\n",
    "[Verse 3]\n",
    "We've known each other for so long\n",
    "Your heart's been aching, but you're too shy to say it (To say it)\n",
    "Inside, we both know what's been going on (Going on)\n",
    "We know the game, and we're gonna play it\n",
    "\n",
    "[Pre-Chorus]\n",
    "I just wanna tell you how I'm feeling\n",
    "Gotta make you understand\n",
    "\n",
    "[Chorus]\n",
    "Never gonna give you up\n",
    "Never gonna let you down\n",
    "Never gonna run around and desert you\n",
    "Never gonna make you cry\n",
    "Never gonna say goodbye\n",
    "Never gonna tell a lie and hurt you\n",
    "Never gonna give you up\n",
    "Never gonna let you down\n",
    "Never gonna run around and desert you\n",
    "Never gonna make you cry\n",
    "Never gonna say goodbye\n",
    "Never gonna tell a lie and hurt you\n",
    "Never gonna give you up\n",
    "Never gonna let you down\n",
    "Never gonna run around and desert you\n",
    "Never gonna make you cry\n",
    "Never gonna say goodbye\n",
    "Never gonna tell a lie and hurt you'''\n",
    "\n",
    "count_total = lyrics.count(\"never gonna\") + lyrics.count(\"Never gonna\")\n",
    "print(count_total)\n",
    "\n",
    "no_section_separators = lyrics.replace(\"[Intro]\", \"\").replace(\"[Verse 1]\", \"\").replace(\"[Pre-Chorus]\", \"\")\\\n",
    ".replace(\"[Chorus]\", \"\").replace(\"[Verse 2]\", \"\").replace(\"[Verse 3]\", \"\") \\\n",
    ".replace(\"[Bridge]\", \"\")\n",
    "print(no_section_separators)\n",
    "\n",
    "\n",
    "\n",
    "\n"
   ]
  },
  {
   "cell_type": "code",
   "execution_count": null,
   "id": "d314e38e",
   "metadata": {},
   "outputs": [
    {
     "name": "stdout",
     "output_type": "stream",
     "text": [
      "27\n"
     ]
    }
   ],
   "source": [
    "# T\n",
    "number_of_integers = int(input())\n",
    "sum_of_integers = 0\n",
    "for index in range(number_of_integers):\n",
    "   integer = int(input())\n",
    "   sum_of_integers += integer\n",
    "print(sum_of_integers)"
   ]
  },
  {
   "cell_type": "code",
   "execution_count": null,
   "id": "381f8c64",
   "metadata": {},
   "outputs": [],
   "source": [
    "# S\n",
    "number = int(input())\n",
    "sum_of_square = 0\n",
    "for index in range(1, number + 1):\n",
    "    sum_of_square += index ** 2\n",
    "print(sum_of_square)\n"
   ]
  },
  {
   "cell_type": "code",
   "execution_count": 11,
   "id": "dde30e99",
   "metadata": {},
   "outputs": [
    {
     "name": "stdout",
     "output_type": "stream",
     "text": [
      "8\n",
      "10\n",
      "12\n",
      "14\n",
      "16\n",
      "18\n"
     ]
    }
   ],
   "source": [
    "# U\n",
    "first_integer = int(input())\n",
    "second_integer = int(input())\n",
    "for index in range(first_integer, second_integer +1):\n",
    "    if index % 2 == 0:\n",
    "        print(index)"
   ]
  },
  {
   "cell_type": "code",
   "execution_count": null,
   "id": "1fe236d8",
   "metadata": {},
   "outputs": [
    {
     "name": "stdout",
     "output_type": "stream",
     "text": [
      "4\n"
     ]
    }
   ],
   "source": [
    "# V\n",
    "number_of_integers = int(input())\n",
    "zero_count = 0\n",
    "for index in range(number_of_integers):\n",
    "    integer = int(input())\n",
    "    if integer == 0:\n",
    "        zero_count += 1\n",
    "print(zero_count)"
   ]
  },
  {
   "cell_type": "code",
   "execution_count": null,
   "id": "9e698588",
   "metadata": {},
   "outputs": [
    {
     "name": "stdout",
     "output_type": "stream",
     "text": [
      "1\n"
     ]
    }
   ],
   "source": [
    "# W\n",
    "total_heroes = int(input())                             # total number of heroes\n",
    "total_sum = total_heroes * (total_heroes + 1) // 2      # formula for 1 + 2 + ... + n\n",
    "\n",
    "given_sum = 0\n",
    "for index in range(total_heroes - 1):\n",
    "    remaining_heroes = int(input())                # read each existing hero\n",
    "    given_sum += remaining_heroes\n",
    "\n",
    "missing_hero = total_sum - given_sum   # difference = missing one\n",
    "print(missing_hero)\n",
    "\n"
   ]
  },
  {
   "cell_type": "code",
   "execution_count": null,
   "id": "e3de2965",
   "metadata": {},
   "outputs": [
    {
     "name": "stdout",
     "output_type": "stream",
     "text": [
      "11 2\n"
     ]
    }
   ],
   "source": [
    "# X\n",
    "first_integer = int(input())\n",
    "second_integer = int(input())\n",
    "print(f\"{first_integer}{second_integer}\", first_integer + second_integer)\n",
    "\n",
    "first_number = input()\n",
    "second_number = input()\n",
    "bob_result = first_number + second_number\n",
    "correct_result = int(first_number) + int(second_number)\n",
    "\n",
    "print(bob_result, correct_result)\n"
   ]
  },
  {
   "cell_type": "code",
   "execution_count": null,
   "id": "b4415c65",
   "metadata": {},
   "outputs": [
    {
     "name": "stdout",
     "output_type": "stream",
     "text": [
      "22  4\n"
     ]
    }
   ],
   "source": [
    "# X\n",
    "first_integer = int(input())\n",
    "second_integer = int(input())\n",
    "bob_result = str(first_integer) + str(second_integer)\n",
    "correct_result = first_integer + second_integer\n",
    "\n",
    "print(bob_result + \"  \" + str(correct_result))"
   ]
  },
  {
   "cell_type": "code",
   "execution_count": null,
   "id": "d1739779",
   "metadata": {},
   "outputs": [
    {
     "name": "stdout",
     "output_type": "stream",
     "text": [
      "1\n",
      "h\n"
     ]
    }
   ],
   "source": [
    "# Y\n",
    "'''word = input()\n",
    "letter_position = int(input())\n",
    "\n",
    "print(word[letter_position - 1]) '''\n",
    "\n",
    "word = input()\n",
    "letter_position = int(input())\n",
    "\n",
    "if 1 <= letter_position <= len(word):\n",
    "    print(word[letter_position - 1])\n",
    "\n",
    "word = input()\n",
    "letter_position = int(input())\n",
    "\n",
    "char = word[letter_position - 1:letter_position]\n",
    "if char:\n",
    "    print(char)\n",
    "else:\n",
    "    print(\"Error: position out of range\")\n",
    "\n",
    "\n"
   ]
  }
 ],
 "metadata": {
  "kernelspec": {
   "display_name": "Python 3",
   "language": "python",
   "name": "python3"
  },
  "language_info": {
   "codemirror_mode": {
    "name": "ipython",
    "version": 3
   },
   "file_extension": ".py",
   "mimetype": "text/x-python",
   "name": "python",
   "nbconvert_exporter": "python",
   "pygments_lexer": "ipython3",
   "version": "3.12.2"
  }
 },
 "nbformat": 4,
 "nbformat_minor": 5
}
