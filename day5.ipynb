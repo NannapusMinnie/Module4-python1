{
 "cells": [
  {
   "cell_type": "markdown",
   "id": "d742db6d",
   "metadata": {},
   "source": [
    "Final project\n",
    "code utility app\n",
    "eg. income-spending, calculator, reminders, journal, shopping-list, interest rate, investment calculator\n",
    "poker game\n",
    "maybe something scientific related app.\n",
    "python 1 knowledge only\n",
    "100-1000 lines\n",
    "u can import random/os/time/math/api\n",
    "no try-catch, OOP\n",
    "\n",
    "present on last friday\n",
    "canvas(optional)\n",
    "show code and how the program works\n",
    "\n",
    "15% fucntions and features (feasible?)\n",
    "10% code readability & pep8 format & variable names\n",
    "5% presentation\n",
    "Each bug -2%\n",
    "PEP8 format -0.2%\n",
    "code defense -0.5 to -30% eg. what does line 20 do?\n",
    "TOTAL 30%\n",
    "\n",
    "write clearly\n",
    "eg. age = int(input('Enter your age in whole number'))\n",
    "\n",
    "u can ask teachers to try to break ur code. (QA tester)\n",
    "\n",
    "LAST 3 DAYS = free day\n",
    "codeforces 30% u will be call individually to defense the code u sent in codeforces eg. why u put this in "
   ]
  },
  {
   "cell_type": "code",
   "execution_count": null,
   "id": "6042c055",
   "metadata": {},
   "outputs": [],
   "source": [
    "# LOOPS (2 types: while and for loop)\n",
    "# to run something repeatingly\n",
    "\n",
    "'''While Loop (we don't know how many times until we stop)'''\n",
    "#while CONDITION:\n",
    "    #ACTION\n",
    "\n",
    "'''For Loop  (we know exact number of times)''' \n",
    "#for INDEX in ITERABLE:\n",
    "    #ACTION\n",
    "\n",
    "for i in range(5): # eg\n",
    "    print('Hello')\n",
    "\n"
   ]
  },
  {
   "cell_type": "code",
   "execution_count": null,
   "id": "cbe5c0cb",
   "metadata": {},
   "outputs": [],
   "source": [
    "while True: # will run until condition is false\n",
    "    print('A')\n",
    "    print('B')"
   ]
  },
  {
   "cell_type": "code",
   "execution_count": null,
   "id": "76b294bc",
   "metadata": {},
   "outputs": [],
   "source": [
    "while False: # will not run anything\n",
    "    print('hello')"
   ]
  },
  {
   "cell_type": "code",
   "execution_count": null,
   "id": "cb633509",
   "metadata": {},
   "outputs": [
    {
     "name": "stdout",
     "output_type": "stream",
     "text": [
      "1\n",
      "2\n",
      "3\n",
      "4\n",
      "5\n",
      "6\n",
      "7\n",
      "8\n",
      "9\n",
      "10\n"
     ]
    }
   ],
   "source": [
    "# print 1 to 10 (use For loop is better but we haven't learn about it yet)\n",
    "\n",
    "number = 1\n",
    "while number <= 10:\n",
    "    print(number)\n",
    "    number += 1\n"
   ]
  },
  {
   "cell_type": "code",
   "execution_count": null,
   "id": "4806f454",
   "metadata": {},
   "outputs": [
    {
     "name": "stdout",
     "output_type": "stream",
     "text": [
      "2\n",
      "4\n",
      "6\n",
      "8\n",
      "10\n",
      "12\n",
      "14\n",
      "16\n",
      "18\n",
      "20\n",
      "2\n",
      "4\n",
      "6\n",
      "8\n",
      "10\n",
      "12\n",
      "14\n",
      "16\n",
      "18\n",
      "20\n"
     ]
    }
   ],
   "source": [
    "# print even number from 1 to 20\n",
    "\n",
    "number = 2\n",
    "while number <= 20:\n",
    "    print(number)\n",
    "    number += 2\n",
    "\n",
    "# or\n",
    "number = 1\n",
    "while number <= 20:\n",
    "    if number % 2 == 0:\n",
    "        print(number)\n",
    "    number += 1\n"
   ]
  }
 ],
 "metadata": {
  "kernelspec": {
   "display_name": "Python 3",
   "language": "python",
   "name": "python3"
  },
  "language_info": {
   "codemirror_mode": {
    "name": "ipython",
    "version": 3
   },
   "file_extension": ".py",
   "mimetype": "text/x-python",
   "name": "python",
   "nbconvert_exporter": "python",
   "pygments_lexer": "ipython3",
   "version": "3.12.2"
  }
 },
 "nbformat": 4,
 "nbformat_minor": 5
}
