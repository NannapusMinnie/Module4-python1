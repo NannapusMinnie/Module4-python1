{
 "cells": [
  {
   "cell_type": "markdown",
   "id": "6c852e9d",
   "metadata": {},
   "source": [
    "break"
   ]
  },
  {
   "cell_type": "code",
   "execution_count": null,
   "id": "9919a847",
   "metadata": {},
   "outputs": [
    {
     "name": "stdout",
     "output_type": "stream",
     "text": [
      "1\n",
      "2\n",
      "3\n",
      "4\n",
      "5\n"
     ]
    }
   ],
   "source": [
    "number = 1\n",
    "while True:\n",
    "    if number % 6 == 0:\n",
    "        break\n",
    "    print(number)\n",
    "    number += 1"
   ]
  },
  {
   "cell_type": "code",
   "execution_count": null,
   "id": "e40d1a0e",
   "metadata": {},
   "outputs": [],
   "source": [
    "while True:\n",
    "    while True:\n",
    "        break # only break inner loop\n",
    "    break"
   ]
  },
  {
   "cell_type": "code",
   "execution_count": 8,
   "id": "54477516",
   "metadata": {},
   "outputs": [
    {
     "name": "stdout",
     "output_type": "stream",
     "text": [
      "1\n",
      "3\n",
      "5\n",
      "7\n",
      "9\n"
     ]
    }
   ],
   "source": [
    "number = 1\n",
    "while number < 10:\n",
    "    if number % 2 == 0:\n",
    "        number += 1\n",
    "        continue # go to the while immeiately. doesn't check conditions\n",
    "    print(number)\n",
    "    number += 1\n"
   ]
  },
  {
   "cell_type": "code",
   "execution_count": null,
   "id": "aaf2c04c",
   "metadata": {},
   "outputs": [
    {
     "name": "stdout",
     "output_type": "stream",
     "text": [
      "1\n",
      "3\n",
      "5\n",
      "7\n",
      "9\n"
     ]
    }
   ],
   "source": [
    "number = 1\n",
    "while number < 10:\n",
    "    if number % 2 == 0:\n",
    "        number += 1\n",
    "        pass # go to print (skip condition in if)\n",
    "    print(number)\n",
    "    number += 1"
   ]
  },
  {
   "cell_type": "code",
   "execution_count": null,
   "id": "a2ce23b8",
   "metadata": {},
   "outputs": [
    {
     "data": {
      "text/plain": [
       "range(10, -2, -2)"
      ]
     },
     "execution_count": 11,
     "metadata": {},
     "output_type": "execute_result"
    }
   ],
   "source": [
    "# For Loop\n",
    "# range(start, stop, step)\n",
    "range(6) # stop (0, 1, 3, 4, 5) not include stopping point\n",
    "range(0) # generate nothing\n",
    "range(-5) # nothing\n",
    "\n",
    "range(1, 10) # start with 1, stop before 10 (1, 2, 3, 4, 5, 6, 7, 8, 9)\n",
    "range(-1, 5) # -1, 0, 1, 2, 3, 4\n",
    "\n",
    "range(1, 10, 2) # 1, 3, 5, 7, 9 (increase by 2)\n",
    "range(10, -2, -2) # 10, 8, 6, 4, 2, 0 (decrease by 2)\n"
   ]
  },
  {
   "cell_type": "code",
   "execution_count": 15,
   "id": "64c48314",
   "metadata": {},
   "outputs": [
    {
     "name": "stdout",
     "output_type": "stream",
     "text": [
      "0\n",
      "1\n",
      "2\n",
      "3\n",
      "4\n",
      "2\n",
      "3\n",
      "4\n",
      "5\n",
      "6\n"
     ]
    }
   ],
   "source": [
    "for index in range(5):\n",
    "    print(index)\n",
    "\n",
    "for index in range(5):\n",
    "    print(index + 2)"
   ]
  },
  {
   "cell_type": "code",
   "execution_count": 21,
   "id": "0d372320",
   "metadata": {},
   "outputs": [
    {
     "name": "stdout",
     "output_type": "stream",
     "text": [
      "10\n",
      "8\n",
      "6\n",
      "4\n",
      "2\n",
      "0\n"
     ]
    }
   ],
   "source": [
    "# print even number from 10 to 0, inclusive\n",
    "\n",
    "for number in range(10, -1, -2):\n",
    "    print(number)"
   ]
  },
  {
   "cell_type": "code",
   "execution_count": null,
   "id": "764fef16",
   "metadata": {},
   "outputs": [
    {
     "name": "stdout",
     "output_type": "stream",
     "text": [
      "10\n",
      "8\n",
      "6\n",
      "4\n",
      "2\n",
      "0\n"
     ]
    }
   ],
   "source": [
    "# or # not optimise as this loops 11 times\n",
    "for number in range(10, -1, -1):\n",
    "    if number % 2 == 0:\n",
    "        print(number)"
   ]
  },
  {
   "cell_type": "code",
   "execution_count": 24,
   "id": "e5b7fc5a",
   "metadata": {},
   "outputs": [
    {
     "name": "stdout",
     "output_type": "stream",
     "text": [
      "55\n"
     ]
    }
   ],
   "source": [
    "# S sum of square from 1 to n\n",
    "number = int(input())\n",
    "sum_of_square = 0\n",
    "for index in range(1, number + 1):\n",
    "    sum_of_square += index ** 2\n",
    "print(sum_of_square)\n",
    "\n",
    "   "
   ]
  },
  {
   "cell_type": "code",
   "execution_count": null,
   "id": "84592b29",
   "metadata": {},
   "outputs": [
    {
     "name": "stdout",
     "output_type": "stream",
     "text": [
      "55\n"
     ]
    }
   ],
   "source": [
    "# O(n)\n",
    "number = int(input())\n",
    "result = number * (number + 1) * (2 * number + 1) // 6\n",
    "print(result)"
   ]
  },
  {
   "cell_type": "code",
   "execution_count": null,
   "id": "92a2dc3f",
   "metadata": {},
   "outputs": [],
   "source": [
    "# Nested Loop\n",
    "while True:\n",
    "    for i in range(10):\n",
    "        while True:\n",
    "            if True:\n",
    "                pass\n",
    "            elif True:\n",
    "                pass"
   ]
  },
  {
   "cell_type": "code",
   "execution_count": 28,
   "id": "8aed1863",
   "metadata": {},
   "outputs": [
    {
     "name": "stdout",
     "output_type": "stream",
     "text": [
      "0 0\n",
      "0 1\n",
      "0 2\n",
      "0 3\n",
      "1 0\n",
      "1 1\n",
      "1 2\n",
      "1 3\n",
      "2 0\n",
      "2 1\n",
      "2 2\n",
      "2 3\n"
     ]
    }
   ],
   "source": [
    "# Nested Loop\n",
    "for first_number in range(3): # 0-2\n",
    "    for second_number in range(4): # 0-3\n",
    "        print(first_number, second_number)"
   ]
  },
  {
   "cell_type": "code",
   "execution_count": 29,
   "id": "bec90158",
   "metadata": {},
   "outputs": [
    {
     "name": "stdout",
     "output_type": "stream",
     "text": [
      "2 2\n",
      "2 4\n",
      "3 2\n",
      "3 4\n",
      "4 2\n",
      "4 4\n"
     ]
    }
   ],
   "source": [
    "for first in range(2, 5): # 2, 3, 4\n",
    "    for second in range(2, 6, 2): # 2, 4\n",
    "        print(first, second)"
   ]
  },
  {
   "cell_type": "code",
   "execution_count": null,
   "id": "2673eb66",
   "metadata": {},
   "outputs": [
    {
     "name": "stdout",
     "output_type": "stream",
     "text": [
      "2 1\n",
      "3 3\n",
      "4 1\n",
      "5 3\n"
     ]
    }
   ],
   "source": [
    "i = 2\n",
    "while i < 5:\n",
    "    for j in range(1, 5, 2): # 1, 3\n",
    "        print(i, j)\n",
    "        i += 1"
   ]
  }
 ],
 "metadata": {
  "kernelspec": {
   "display_name": "Python 3",
   "language": "python",
   "name": "python3"
  },
  "language_info": {
   "codemirror_mode": {
    "name": "ipython",
    "version": 3
   },
   "file_extension": ".py",
   "mimetype": "text/x-python",
   "name": "python",
   "nbconvert_exporter": "python",
   "pygments_lexer": "ipython3",
   "version": "3.12.2"
  }
 },
 "nbformat": 4,
 "nbformat_minor": 5
}
