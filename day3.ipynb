{
 "cells": [
  {
   "cell_type": "code",
   "execution_count": null,
   "id": "14bcf842",
   "metadata": {},
   "outputs": [
    {
     "name": "stdout",
     "output_type": "stream",
     "text": [
      "True\n",
      "True\n",
      "False\n",
      "False\n",
      "False\n",
      "True\n",
      "True\n",
      "False\n",
      "False\n",
      "1\n",
      "True\n",
      "None\n",
      "True <class 'bool'>\n"
     ]
    }
   ],
   "source": [
    "# Convert type\n",
    "\n",
    "# int()\n",
    "int(4.0)\n",
    "int('4')\n",
    "int(float('4.0')) # can't directly convert string that is float into int\n",
    "int(True) # -> 1\n",
    "\n",
    "# float()\n",
    "float('-2.5')\n",
    "float(True) # -> 1.0\n",
    "float(False) # -> 0.0\n",
    "# float('False') error b/c u can't convert string that isn't a number to float or int\n",
    "# float('') error\n",
    "\n",
    "# bool()\n",
    "print(bool(7)) # True\n",
    "print(bool(-1)) # True\n",
    "print(bool(0)) # False\n",
    "print(bool(0.0)) # False\n",
    "print(bool(-0.000000)) # False\n",
    "print(bool(0.000000000000000001)) # True\n",
    "print(bool(-0.000000000000000001)) # True\n",
    "print(bool(None)) # False\n",
    "print(bool('')) # False\n",
    "\n",
    "# str()\n",
    "print(str(1))\n",
    "print(str(True))\n",
    "print(str(None))\n",
    "\n",
    "\n",
    "a = bool(str(float(-2)))\n",
    "print(a, type(a))"
   ]
  },
  {
   "cell_type": "code",
   "execution_count": null,
   "id": "8388d6cf",
   "metadata": {},
   "outputs": [],
   "source": [
    "'''\n",
    "in python we can over write the variable\n",
    "= dynamic-typed programming language\n",
    "eg. python, javascript, lua\n",
    "\n",
    "static = typescript, c\n",
    "'''"
   ]
  },
  {
   "cell_type": "code",
   "execution_count": null,
   "id": "57308f15",
   "metadata": {},
   "outputs": [
    {
     "name": "stdout",
     "output_type": "stream",
     "text": [
      "18\n",
      "7\n",
      "56\n",
      "2.0 2\n",
      "2\n",
      "2\n",
      "81 3.0 2.0\n",
      "1\n",
      "0.0\n",
      "0.0\n",
      "1.4000000000000021\n",
      "-3.0\n",
      "-1.0000000000000009\n",
      "0.5\n"
     ]
    }
   ],
   "source": [
    "# MATHEMATICAL OPERATIONS\n",
    "'''Addition and Subtraction'''\n",
    "a = 2 + 6\n",
    "b = 7 + 3\n",
    "print(a+b)\n",
    "\n",
    "print(2+5)\n",
    "\n",
    "a = sum([2, 4, 6, 8, 10, 12, 14])\n",
    "2 + 4 + 6 + 8 +10 + 12 + 14 # this is the same as the line above\n",
    "print(a)\n",
    "\n",
    "'''Multiplication and Division'''\n",
    "c = 6 * 4\n",
    "d = 8 / 4 # give quotient as float\n",
    "e = 8 // 4 # int\n",
    "print(d, e)\n",
    "\n",
    "print(8//3)\n",
    "print(int(8/3)) # equivilence to the line above\n",
    "\n",
    "'''Exponent'''\n",
    "f = 9 ** 2\n",
    "g = 9 ** 0.5\n",
    "h = 8 ** (1 / 3)\n",
    "print(f, g, h)\n",
    "0 ** 0 # = 1\n",
    "\n",
    "'''Modulo'''\n",
    "# remainders are always integers\n",
    "# remainder = dividend - (divisor * quotient)\n",
    "i = 7 % 3\n",
    "print(i)\n",
    "print(32.0 % 4) # 0.0\n",
    "print(32 % 4.0) # 0.0\n",
    "print(32.0 % 5.1) # edge case\n",
    "print(32.0 % -5) # negative remainder\n",
    "print(-12.5 % -1.15)\n",
    "print(-12.5 % True) # remainder is 0 cause True is 1\n"
   ]
  },
  {
   "cell_type": "code",
   "execution_count": 29,
   "id": "37909f9f",
   "metadata": {},
   "outputs": [
    {
     "data": {
      "text/plain": [
       "0.30000000000000004"
      ]
     },
     "execution_count": 29,
     "metadata": {},
     "output_type": "execute_result"
    }
   ],
   "source": [
    "# Extra work\n",
    "7 / 3 # why does this stop at 5 ?\n",
    "0.1 + 0.2\n"
   ]
  },
  {
   "cell_type": "code",
   "execution_count": 34,
   "id": "f5c98aac",
   "metadata": {},
   "outputs": [
    {
     "name": "stdout",
     "output_type": "stream",
     "text": [
      "2.0\n",
      "-1.0\n"
     ]
    }
   ],
   "source": [
    "# ORDER OF OPERATIONS\n",
    "# () -> power, log -> multiply, divide -> plus, minus\n",
    "a = 2 + 2 % 2 / 2\n",
    "print(a)\n",
    "b = 2 * 2 - 2 / 2 - 2 ** 2\n",
    "b = (2 * 2) - (2 / 2) - (2 ** 2) # ideal way\n",
    "b = 2*2 - 2/2 - 2**2 # another common way\n",
    "print(b)"
   ]
  },
  {
   "cell_type": "code",
   "execution_count": null,
   "id": "4235f073",
   "metadata": {},
   "outputs": [
    {
     "name": "stdout",
     "output_type": "stream",
     "text": [
      "1.5\n",
      "0.0\n"
     ]
    }
   ],
   "source": [
    "# VARIABLE ADJUSTMENTS\n",
    "\n",
    "a = 5\n",
    "a = 6\n",
    "\n",
    "a = 5\n",
    "a = a + 1\n",
    "\n",
    "a = 4 + 4 # 8\n",
    "b = 3 * 2\n",
    "a = a + 1 # 9\n",
    "a = a // 2 # 4\n",
    "a = b / a # 6/4\n",
    "print(a)\n",
    "\n",
    "'''short hand'''\n",
    "c += 1 # c = c + 1 means increase itself by 1\n",
    "c -= 1 # c = c - 1\n",
    "c *= 2\n",
    "c /= 2\n",
    "c //= 2\n",
    "c **= 3\n",
    "c %= 4 # c = c % c\n",
    "print(c)"
   ]
  },
  {
   "cell_type": "code",
   "execution_count": null,
   "id": "b0a3ac15",
   "metadata": {},
   "outputs": [
    {
     "name": "stdout",
     "output_type": "stream",
     "text": [
      "True\n",
      "False\n",
      "False\n",
      "False\n",
      "True\n",
      "False\n",
      "1\n",
      "1\n",
      "0\n",
      "False\n",
      "0\n",
      "0\n",
      "1\n",
      "True\n",
      "True\n",
      "5\n",
      "5\n",
      "True\n"
     ]
    }
   ],
   "source": [
    "# LOGICAL OPERATORS\n",
    "# Preposition: the statement that u can assign boolean value to\n",
    "# eg. You're a student\n",
    "# Question and command sentences aren't prepositions\n",
    "# eg. Are u a student? / Don't eat in the classroom\n",
    "\n",
    "2 > 3 # F\n",
    "a = 5\n",
    "a > 1 # T\n",
    "\n",
    "2 >= 3 # F\n",
    "2 <= 3 # T\n",
    "\n",
    "2 == 4 # F\n",
    "2 != 4 # T != means not equal too\n",
    "\n",
    "print(4 > 3 > 2 > 1) # T\n",
    "print(4 > 3 > 3 > 1) # F\n",
    "print((4>3) and (3>3) and 3>1)\n",
    "\n",
    "'''not'''\n",
    "not True # is false\n",
    "not False # is True\n",
    "print(not True)\n",
    "print(not 1>2)\n",
    "print((not 1)>2) # True is 1, so not 1 is False. False is 0, so 0>2 is false.\n",
    "\n",
    "'''and'''\n",
    "2 > 3 and 3 > 1 # false\n",
    "print( c != d-1 and 1) # 1\n",
    "# only if both prepositions are true, the whole statement is true\n",
    "\n",
    "'''or'''\n",
    "a = 0\n",
    "b = 1\n",
    "print( a != b-1 or 1) # 1 (T)\n",
    "print( a != b-1 or a) # 0 (F)\n",
    "\n",
    "# AND stop at 1st False or the last value\n",
    "# OR stop at 1st True or the last value\n",
    "True or 0 # True\n",
    "True and 0 # False\n",
    "\n",
    "print(0 or False) # F\n",
    "print(0 or 0) # 0\n",
    "print(False or 0) # 0\n",
    "\n",
    "print(0 or 1) # 1\n",
    "print(0 or True) # T\n",
    "\n",
    "print(True or 5) # T\n",
    "print(5 or True) # 5\n",
    "print(True and 5) # 5\n",
    "print(5 and True) # True"
   ]
  }
 ],
 "metadata": {
  "kernelspec": {
   "display_name": "Python 3",
   "language": "python",
   "name": "python3"
  },
  "language_info": {
   "codemirror_mode": {
    "name": "ipython",
    "version": 3
   },
   "file_extension": ".py",
   "mimetype": "text/x-python",
   "name": "python",
   "nbconvert_exporter": "python",
   "pygments_lexer": "ipython3",
   "version": "3.12.2"
  }
 },
 "nbformat": 4,
 "nbformat_minor": 5
}
